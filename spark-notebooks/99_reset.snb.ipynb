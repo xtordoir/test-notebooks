{
  "metadata" : {
    "id" : "241eb5eb-8642-4e91-9062-4c866c831930",
    "name" : "update-notebooks",
    "user_save_timestamp" : "1970-01-01T00:00:00.000Z",
    "auto_save_timestamp" : "1970-01-01T00:00:00.000Z",
    "language_info" : {
      "name" : "scala",
      "file_extension" : "scala",
      "codemirror_mode" : "text/x-scala"
    },
    "trusted" : true,
    "sparkNotebook" : null,
    "customLocalRepo" : null,
    "customRepos" : null,
    "customDeps" : null,
    "customImports" : null,
    "customArgs" : null,
    "customSparkConf" : null,
    "customVars" : null
  },
  "cells" : [ {
    "metadata" : {
      "trusted" : true,
      "input_collapsed" : false,
      "collapsed" : false,
      "id" : "B253FF272C6743A695C499FB1E9B97D7"
    },
    "cell_type" : "code",
    "source" : [ "sparkSession.close\n", "import sys.process._\n", "import scala.language.postfixOps\n" ],
    "outputs" : [ {
      "name" : "stdout",
      "output_type" : "stream",
      "text" : "import sys.process._\nimport scala.language.postfixOps\n"
    }, {
      "metadata" : { },
      "data" : {
        "text/html" : ""
      },
      "output_type" : "execute_result",
      "execution_count" : 1,
      "time" : "Took: 1.570s, at 2019-10-28 08:32"
    } ]
  }, {
    "metadata" : {
      "id" : "B72D89FE266F489399261B7C47E26089"
    },
    "cell_type" : "markdown",
    "source" : "## Reset and pull notebooks from github\n\n!! Discards all local changes"
  }, {
    "metadata" : {
      "trusted" : true,
      "input_collapsed" : false,
      "collapsed" : true,
      "id" : "10D7A1F230394198BA163352D762487D"
    },
    "cell_type" : "code",
    "source" : [ "s\"${sys.env.get(\"HOME\").get}/bin/update-notebooks\"!!" ],
    "outputs" : [ ]
  }, {
    "metadata" : {
      "id" : "8A77D866EFF8483B88D32702B06CE155"
    },
    "cell_type" : "markdown",
    "source" : "## Delete topic to reset streaming data\n\nChange `topic` value to match your needs!"
  }, {
    "metadata" : {
      "trusted" : true,
      "input_collapsed" : false,
      "collapsed" : true,
      "id" : "C349FD3EA5F841D4825999C0E925D036"
    },
    "cell_type" : "code",
    "source" : [ "val topic = \"test\"" ],
    "outputs" : [ ]
  }, {
    "metadata" : {
      "trusted" : true,
      "input_collapsed" : false,
      "collapsed" : true,
      "id" : "3CDA97DB2A6F44D9AEF95A257830303C"
    },
    "cell_type" : "code",
    "source" : [ "s\"${sys.env.get(\"HOME\").get}/bin/delete-topic ${topic}\"!!" ],
    "outputs" : [ ]
  }, {
    "metadata" : {
      "id" : "C262D5B730F14EECBFDEE82BBAA89D66"
    },
    "cell_type" : "markdown",
    "source" : "## Delete Parquet file\n\nBe careful not to delete anything else, edit with much care!"
  }, {
    "metadata" : {
      "trusted" : true,
      "input_collapsed" : false,
      "collapsed" : true,
      "id" : "7E9347BC400844528FECDB42D81485E9"
    },
    "cell_type" : "code",
    "source" : [ "val dataLocation = System.getenv(\"HOME\") + \"/data/cleaned-history.parquet\"" ],
    "outputs" : [ ]
  }, {
    "metadata" : {
      "trusted" : true,
      "input_collapsed" : false,
      "collapsed" : true,
      "id" : "18A19704E571400E88E6FD2B1199060E"
    },
    "cell_type" : "code",
    "source" : [ "s\"rm -rf $dataLocation\"!!" ],
    "outputs" : [ ]
  }, {
    "metadata" : {
      "id" : "E736D58F072F413D8C5A45A443C477CE"
    },
    "cell_type" : "markdown",
    "source" : "## Delete saved model\n\nBe careful not to delete anything else, edit with much care!"
  }, {
    "metadata" : {
      "trusted" : true,
      "input_collapsed" : false,
      "collapsed" : true,
      "id" : "0DD1CCEB15E445F2837C145A21487E04"
    },
    "cell_type" : "code",
    "source" : [ "val modelLocation = System.getenv(\"HOME\") + \"/data/spark-linear-model\"" ],
    "outputs" : [ ]
  }, {
    "metadata" : {
      "trusted" : true,
      "input_collapsed" : false,
      "collapsed" : true,
      "id" : "D5B2288E3B7F4BC084334F40683313D0"
    },
    "cell_type" : "code",
    "source" : [ "s\"rm -rf $modelLocation\"!!" ],
    "outputs" : [ ]
  }, {
    "metadata" : {
      "trusted" : true,
      "input_collapsed" : false,
      "collapsed" : true,
      "id" : "BA6A3A6306B64BC183562AEBBA7C6489"
    },
    "cell_type" : "code",
    "source" : [ "" ],
    "outputs" : [ ]
  } ],
  "nbformat" : 4
}