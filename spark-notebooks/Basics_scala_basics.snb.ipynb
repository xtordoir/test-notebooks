{
  "metadata" : {
    "id" : "7b412b18-007d-43b9-bea3-ce763bea52fd",
    "name" : "scala_basics",
    "user_save_timestamp" : "1970-01-01T00:00:00.000Z",
    "auto_save_timestamp" : "1970-01-01T00:00:00.000Z",
    "language_info" : {
      "name" : "scala",
      "file_extension" : "scala",
      "codemirror_mode" : "text/x-scala"
    },
    "trusted" : true,
    "sparkNotebook" : null,
    "customLocalRepo" : null,
    "customRepos" : null,
    "customDeps" : null,
    "customImports" : null,
    "customArgs" : null,
    "customSparkConf" : null,
    "customVars" : null
  },
  "cells" : [ {
    "metadata" : {
      "presentation" : {
        "cell_width" : 12
      },
      "id" : "5DE402D0CCA841DEA3BD4A6F86E0EC0B"
    },
    "cell_type" : "markdown",
    "source" : "\n# Scala basics"
  }, {
    "metadata" : {
      "id" : "986D6146038844A294FEDFA536E92A70"
    },
    "cell_type" : "markdown",
    "source" : "We will explore some basic methods on Scala Collections, for a tiny use case, and see how, later on, we can translate this to Spark."
  }, {
    "metadata" : {
      "id" : "ED04DBE8883D4A6285AA4843D77437F6"
    },
    "cell_type" : "markdown",
    "source" : "## Use case: Housing market\nFor the Housing market, we are interested in the prices of the houses, their size and their location. \nFor simplification, all the prices are presented in Euro, and the location is represented by the zip code and the country.\nWe'll be comparing a few countries in Europe."
  }, {
    "metadata" : {
      "trusted" : true,
      "input_collapsed" : false,
      "collapsed" : false,
      "id" : "F38D8A93C0924E7D92FF530DB6784F98"
    },
    "cell_type" : "code",
    "source" : [ "case class Home(m2: Int, price: Double, zipCode: String, country: String)" ],
    "outputs" : [ ]
  }, {
    "metadata" : {
      "id" : "D18669A02BC84588A930CFA925B5526A"
    },
    "cell_type" : "markdown",
    "source" : "## Sample data"
  }, {
    "metadata" : {
      "trusted" : true,
      "input_collapsed" : false,
      "collapsed" : false,
      "id" : "CC50820CD52B44408CE554AB2E501122"
    },
    "cell_type" : "code",
    "source" : [ "val data = Seq(\n", "  Home(100, 561000, \"1024AA\", \"Netherlands\"),\n", "  Home(100, 525000, \"3011CD\", \"Netherlands\"),\n", "  Home(100, 916000, \"75001\", \"France\"),\n", "  Home(100, 598000, \"69002\", \"France\"),\n", "  Home(100, 354000, \"28014\", \"Spain\"),\n", "  Home(100, 200000, \"36400\", \"Spain\"),\n", "  Home(100, 1180000, \"EC1A\", \"UK\"),\n", "  Home(100, 263000, \"CF10\", \"UK\"),\n", "  Home(100, 336600, \"1000\", \"Belgium\"),\n", "  Home(100, 299000, \"9000\", \"Belgium\"),\n", "  Home(100, 820000, \"2450\", \"Luxembourg\"),\n", "  Home(100, 570000, \"4238\", \"Luxembourg\"),\n", "  Home(100, 375000, \"50667\", \"Germany\"),\n", "  Home(100, 218000, \"10117\", \"Germany\")\n", ")" ],
    "outputs" : [ ]
  }, {
    "metadata" : {
      "trusted" : true,
      "input_collapsed" : false,
      "collapsed" : false,
      "id" : "BF7C354E8CFE4005863B464A2D471303"
    },
    "cell_type" : "code",
    "source" : [ "// Setting up some crazy price for a house, so we can include it in our examples below. Is it not crazy enough for you? You're lucky...\n", "\n", "val crazyPrice = 300000" ],
    "outputs" : [ ]
  }, {
    "metadata" : {
      "id" : "9A17EE07F558478E82F168FFCB90A690"
    },
    "cell_type" : "markdown",
    "source" : "## How many entries do we have in our dataset?"
  }, {
    "metadata" : {
      "trusted" : true,
      "input_collapsed" : false,
      "collapsed" : false,
      "id" : "4302D10BDDA446E1BF6346436DA1AA35"
    },
    "cell_type" : "code",
    "source" : [ "data.length\n", "// data.size" ],
    "outputs" : [ ]
  }, {
    "metadata" : {
      "id" : "A434980A4AD04B47B29F6272B58A6128"
    },
    "cell_type" : "markdown",
    "source" : "## How many different entries do we have in our dataset?"
  }, {
    "metadata" : {
      "trusted" : true,
      "input_collapsed" : false,
      "collapsed" : false,
      "presentation" : {
        "tabs_state" : "{\n  \"tab_id\": \"#tab1290397609-0\"\n}",
        "pivot_chart_state" : "{\n  \"hiddenAttributes\": [],\n  \"menuLimit\": 200,\n  \"cols\": [],\n  \"rows\": [],\n  \"vals\": [],\n  \"exclusions\": {},\n  \"inclusions\": {},\n  \"unusedAttrsVertical\": 85,\n  \"autoSortUnusedAttrs\": false,\n  \"inclusionsInfo\": {},\n  \"aggregatorName\": \"Count\",\n  \"rendererName\": \"Table\"\n}"
      },
      "id" : "1EC4603C3B744224A8F6328BAC3599C2"
    },
    "cell_type" : "code",
    "source" : [ "data.distinct" ],
    "outputs" : [ ]
  }, {
    "metadata" : {
      "id" : "C2BE13D688F04946855C940B5CC5303D"
    },
    "cell_type" : "markdown",
    "source" : "## Which countries have crazy prices in their Housing market?"
  }, {
    "metadata" : {
      "trusted" : true,
      "input_collapsed" : false,
      "collapsed" : false,
      "presentation" : {
        "tabs_state" : "{\n  \"tab_id\": \"#tab336373520-0\"\n}",
        "pivot_chart_state" : "{\n  \"hiddenAttributes\": [],\n  \"menuLimit\": 200,\n  \"cols\": [],\n  \"rows\": [],\n  \"vals\": [],\n  \"exclusions\": {},\n  \"inclusions\": {},\n  \"unusedAttrsVertical\": 85,\n  \"autoSortUnusedAttrs\": false,\n  \"inclusionsInfo\": {},\n  \"aggregatorName\": \"Count\",\n  \"rendererName\": \"Table\"\n}"
      },
      "id" : "93E66EACD918402180ED6F8A4A5A093D"
    },
    "cell_type" : "code",
    "source" : [ "data.filter(home => home.price > crazyPrice).map(_.country).distinct" ],
    "outputs" : [ ]
  }, {
    "metadata" : {
      "trusted" : true,
      "input_collapsed" : false,
      "collapsed" : false,
      "presentation" : {
        "tabs_state" : "{\n  \"tab_id\": \"#tab71265218-0\"\n}",
        "pivot_chart_state" : "{\n  \"hiddenAttributes\": [],\n  \"menuLimit\": 200,\n  \"cols\": [],\n  \"rows\": [],\n  \"vals\": [],\n  \"exclusions\": {},\n  \"inclusions\": {},\n  \"unusedAttrsVertical\": 85,\n  \"autoSortUnusedAttrs\": false,\n  \"inclusionsInfo\": {},\n  \"aggregatorName\": \"Count\",\n  \"rendererName\": \"Table\"\n}"
      },
      "id" : "FFBE4F37D8744AADB76B09CAA373D188"
    },
    "cell_type" : "code",
    "source" : [ "// Let's order our dataset somehow... \n", "\n", "data.sortBy(home => (home.country, -home.price))" ],
    "outputs" : [ ]
  }, {
    "metadata" : {
      "id" : "3F16E5EA7C394D698C3562A3351388D1"
    },
    "cell_type" : "markdown",
    "source" : "## Aggregations"
  }, {
    "metadata" : {
      "id" : "EDBA1BA5C9CD403EBDCC4638BC3444F2"
    },
    "cell_type" : "markdown",
    "source" : "We want to compute the average price in the Housing market per country. Let's define how to calculate the average, and then apply it to our dataset."
  }, {
    "metadata" : {
      "trusted" : true,
      "input_collapsed" : false,
      "collapsed" : false,
      "id" : "A1736A5594624DBEB85EF7A3F9A9A6B5"
    },
    "cell_type" : "code",
    "source" : [ "def avg(seq: Seq[Double]): Double =\n", "  if (seq.nonEmpty) {\n", "    val sum = seq.foldLeft(0.0)(_ + _)\n", "    sum / seq.length\n", "  } else {\n", "    0\n", "  }\n" ],
    "outputs" : [ ]
  }, {
    "metadata" : {
      "trusted" : true,
      "input_collapsed" : false,
      "collapsed" : false,
      "presentation" : {
        "tabs_state" : "{\n  \"tab_id\": \"#tab1908808517-0\"\n}",
        "pivot_chart_state" : "{\n  \"hiddenAttributes\": [],\n  \"menuLimit\": 200,\n  \"cols\": [],\n  \"rows\": [],\n  \"vals\": [],\n  \"exclusions\": {},\n  \"inclusions\": {},\n  \"unusedAttrsVertical\": 85,\n  \"autoSortUnusedAttrs\": false,\n  \"inclusionsInfo\": {},\n  \"aggregatorName\": \"Count\",\n  \"rendererName\": \"Table\"\n}"
      },
      "id" : "75D8C4D24B564B3DA872020B0E832A6C"
    },
    "cell_type" : "code",
    "source" : [ "data.groupBy(_.country).map {\n", "  case (country, list) => (country, avg(list.map(_.price)))\n", "}" ],
    "outputs" : [ ]
  }, {
    "metadata" : {
      "id" : "3010AA48CE2B464D81F4C4B82478E5D8"
    },
    "cell_type" : "markdown",
    "source" : "## TODO: Which locations in UK have crazy prizes?"
  }, {
    "metadata" : {
      "trusted" : true,
      "input_collapsed" : false,
      "collapsed" : true,
      "presentation" : {
        "tabs_state" : "{\n  \"tab_id\": \"#tab604624798-0\"\n}",
        "pivot_chart_state" : "{\n  \"hiddenAttributes\": [],\n  \"menuLimit\": 200,\n  \"cols\": [],\n  \"rows\": [],\n  \"vals\": [],\n  \"exclusions\": {},\n  \"inclusions\": {},\n  \"unusedAttrsVertical\": 85,\n  \"autoSortUnusedAttrs\": false,\n  \"inclusionsInfo\": {},\n  \"aggregatorName\": \"Count\",\n  \"rendererName\": \"Table\"\n}"
      },
      "id" : "F7B3256A6F7F48EE8492CA641027C3B6"
    },
    "cell_type" : "code",
    "source" : [ "" ],
    "outputs" : [ ]
  }, {
    "metadata" : {
      "trusted" : true,
      "input_collapsed" : false,
      "collapsed" : true,
      "id" : "B40BEBA301D74E6681E20A7E50F20C61"
    },
    "cell_type" : "markdown",
    "source" : "## TODO: Which are the top 3 most expensive countries?"
  }, {
    "metadata" : {
      "trusted" : true,
      "input_collapsed" : false,
      "collapsed" : true,
      "presentation" : {
        "tabs_state" : "{\n  \"tab_id\": \"#tab616857005-0\"\n}",
        "pivot_chart_state" : "{\n  \"hiddenAttributes\": [],\n  \"menuLimit\": 200,\n  \"cols\": [],\n  \"rows\": [],\n  \"vals\": [],\n  \"exclusions\": {},\n  \"inclusions\": {},\n  \"unusedAttrsVertical\": 85,\n  \"autoSortUnusedAttrs\": false,\n  \"inclusionsInfo\": {},\n  \"aggregatorName\": \"Count\",\n  \"rendererName\": \"Table\"\n}"
      },
      "id" : "4D4CBD969BA54E9F8FD937F27236D31E"
    },
    "cell_type" : "code",
    "source" : [ "" ],
    "outputs" : [ ]
  }, {
    "metadata" : {
      "id" : "9A95D644D5ED4FD69B3A1A197AAE7BF7"
    },
    "cell_type" : "markdown",
    "source" : "## TODO: Which percentage of houses in France are over the crazy price?"
  }, {
    "metadata" : {
      "trusted" : true,
      "input_collapsed" : false,
      "collapsed" : true,
      "presentation" : {
        "tabs_state" : "{\n  \"tab_id\": \"#tab1505727504-0\"\n}",
        "pivot_chart_state" : "{\n  \"hiddenAttributes\": [],\n  \"menuLimit\": 200,\n  \"cols\": [],\n  \"rows\": [],\n  \"vals\": [],\n  \"exclusions\": {},\n  \"inclusions\": {},\n  \"unusedAttrsVertical\": 85,\n  \"autoSortUnusedAttrs\": false,\n  \"inclusionsInfo\": {},\n  \"aggregatorName\": \"Count\",\n  \"rendererName\": \"Table\"\n}"
      },
      "id" : "D3127CC085F044EC8AE5BA583D33DBA3"
    },
    "cell_type" : "code",
    "source" : [ "" ],
    "outputs" : [ ]
  }, {
    "metadata" : {
      "id" : "1B74FCC7180D47008488E98443AA9EE3"
    },
    "cell_type" : "markdown",
    "source" : "## TODO: Which percentage of houses in the dataset are over the crazy price?"
  }, {
    "metadata" : {
      "trusted" : true,
      "input_collapsed" : false,
      "collapsed" : true,
      "id" : "749FBF880BFE478E8AC728AB2BE9237E"
    },
    "cell_type" : "code",
    "source" : [ "" ],
    "outputs" : [ ]
  }, {
    "metadata" : {
      "id" : "AFA0320A5FD540B6B032BC14B72546C7"
    },
    "cell_type" : "markdown",
    "source" : "## TODO: Which are the top 3 cheapest locations (zipCode + country) in the dataset?"
  }, {
    "metadata" : {
      "trusted" : true,
      "input_collapsed" : false,
      "collapsed" : true,
      "presentation" : {
        "tabs_state" : "{\n  \"tab_id\": \"#tab1791748688-0\"\n}",
        "pivot_chart_state" : "{\n  \"hiddenAttributes\": [],\n  \"menuLimit\": 200,\n  \"cols\": [],\n  \"rows\": [],\n  \"vals\": [],\n  \"exclusions\": {},\n  \"inclusions\": {},\n  \"unusedAttrsVertical\": 85,\n  \"autoSortUnusedAttrs\": false,\n  \"inclusionsInfo\": {},\n  \"aggregatorName\": \"Count\",\n  \"rendererName\": \"Table\"\n}"
      },
      "id" : "0233C9A127244447ACA0564D7916AB15"
    },
    "cell_type" : "code",
    "source" : [ "" ],
    "outputs" : [ ]
  } ],
  "nbformat" : 4
}