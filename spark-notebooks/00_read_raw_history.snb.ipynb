{
  "metadata" : {
    "id" : "c1c35b2a-fc5f-4158-99da-d3054ea6e7aa",
    "name" : "00_read_raw_history",
    "user_save_timestamp" : "1970-01-01T00:00:00.000Z",
    "auto_save_timestamp" : "1970-01-01T00:00:00.000Z",
    "language_info" : {
      "name" : "scala",
      "file_extension" : "scala",
      "codemirror_mode" : "text/x-scala"
    },
    "trusted" : true,
    "sparkNotebook" : null,
    "customLocalRepo" : null,
    "customRepos" : null,
    "customDeps" : null,
    "customImports" : null,
    "customArgs" : null,
    "customSparkConf" : null,
    "customVars" : null
  },
  "cells" : [ {
    "metadata" : {
      "id" : "32CCE71A6D09456A847AB1D82BDD6720"
    },
    "cell_type" : "markdown",
    "source" : "# Raw data preprocessing notebook"
  }, {
    "metadata" : {
      "id" : "C592770E891541AC80659E44EDD27374"
    },
    "cell_type" : "markdown",
    "source" : "Create a variable with data directory"
  }, {
    "metadata" : {
      "trusted" : true,
      "input_collapsed" : false,
      "collapsed" : false,
      "id" : "ADB32B075931410C83505AE55D931924"
    },
    "cell_type" : "code",
    "source" : [ "val dataDir = System.getenv(\"HOME\") + \"/data/history\"\n", "val spark   = sparkSession" ],
    "outputs" : [ ]
  }, {
    "metadata" : {
      "id" : "B5B75DD9CB044B97A3064B0EF6CD7D14"
    },
    "cell_type" : "markdown",
    "source" : "### Read csv file to Dataframe\n\n* No header\n* Infer a schema\n* name columns\n"
  }, {
    "metadata" : {
      "trusted" : true,
      "input_collapsed" : false,
      "collapsed" : false,
      "id" : "25E036EB6E3B4BF49D4436738EC143DB"
    },
    "cell_type" : "code",
    "source" : [ "val rawDF = spark.read.format(\"csv\")\n", "        .option(\"header\", \"false\")\n", "        .option(\"inferSchema\", \"true\")\n", "        .load(s\"${dataDir}/*.csv\")\n", "        .toDF(\"instrument\",\"timestamp\",\"open\",\"high\",\"low\",\"close\",\"volume\")" ],
    "outputs" : [ ]
  }, {
    "metadata" : {
      "trusted" : true,
      "input_collapsed" : false,
      "collapsed" : false,
      "id" : "647B9075CE404E419DA8DF96E53CA94B"
    },
    "cell_type" : "code",
    "source" : [ "rawDF.count" ],
    "outputs" : [ ]
  }, {
    "metadata" : {
      "id" : "EE4ABA7488C84CBF9D4AFEE8E4DEC920"
    },
    "cell_type" : "markdown",
    "source" : "### Find distinct instruments"
  }, {
    "metadata" : {
      "trusted" : true,
      "input_collapsed" : false,
      "collapsed" : true,
      "id" : "D35E55FB4E6940D18F50B9B3DA265026"
    },
    "cell_type" : "code",
    "source" : [ "rawDF.select(\"instrument\").distinct" ],
    "outputs" : [ ]
  }, {
    "metadata" : {
      "id" : "9C89B69E1B48443EB247A29DF5139F5C"
    },
    "cell_type" : "markdown",
    "source" : "### Count number of distinct timestamps"
  }, {
    "metadata" : {
      "trusted" : true,
      "input_collapsed" : false,
      "collapsed" : true,
      "id" : "769BDBA4B1714BD78B89528B1F85DDEA"
    },
    "cell_type" : "code",
    "source" : [ "// ..." ],
    "outputs" : [ ]
  }, {
    "metadata" : {
      "id" : "2E1FCC8749174A3F87B5BD76987D7E89"
    },
    "cell_type" : "markdown",
    "source" : "### Count number of timestamp for each instrument"
  }, {
    "metadata" : {
      "trusted" : true,
      "input_collapsed" : false,
      "collapsed" : true,
      "id" : "D97EA670A17E41B18F83D94959CE53B6"
    },
    "cell_type" : "code",
    "source" : [ "// ..." ],
    "outputs" : [ ]
  }, {
    "metadata" : {
      "id" : "ADC46744D53F48E79C24E1EF0EAE68A4"
    },
    "cell_type" : "markdown",
    "source" : "### Count number of occurences of each timestamps and display distribution"
  }, {
    "metadata" : {
      "trusted" : true,
      "input_collapsed" : false,
      "collapsed" : true,
      "id" : "0C56E88851A94A689603253F2CDCDB5E"
    },
    "cell_type" : "code",
    "source" : [ "rawDF.groupBy(\"timestamp\").count\n", "     .toDF(\"ts\", \"ts_count\")\n", "     .groupBy(\"ts_count\").count\n", "     .orderBy($\"ts_count\".asc)" ],
    "outputs" : [ ]
  }, {
    "metadata" : {
      "id" : "493001A6FCDB4F0681BAD4CCA1DD4C95"
    },
    "cell_type" : "markdown",
    "source" : "### Data cleaning: only keep timestamps with the 5 instruments\n\nThese counts teach us there are occurences of `timestamps` with duplicate or missing `instruments`\n\nWe need to remove any duplicate line then identify timestamps with the 5 instruments"
  }, {
    "metadata" : {
      "trusted" : true,
      "input_collapsed" : false,
      "collapsed" : true,
      "id" : "A55FF2124BEF4B228E04A2DCB1F91898"
    },
    "cell_type" : "code",
    "source" : [ "(rawDF.count, rawDF.distinct.count)" ],
    "outputs" : [ ]
  }, {
    "metadata" : {
      "trusted" : true,
      "input_collapsed" : false,
      "collapsed" : true,
      "id" : "D150446629214E9CBD3D9FA270FF4EFA"
    },
    "cell_type" : "code",
    "source" : [ "rawDF.distinct\n", "     .groupBy(\"timestamp\").count\n", "     .toDF(\"ts\", \"ts_count\")\n", "     .groupBy(\"ts_count\").count\n", "     .orderBy($\"ts_count\".asc)" ],
    "outputs" : [ ]
  }, {
    "metadata" : {
      "trusted" : true,
      "input_collapsed" : false,
      "collapsed" : true,
      "id" : "B2566E32F31B434D90FDBD84DA0148DE"
    },
    "cell_type" : "code",
    "source" : [ "rawDF.distinct\n", "     .groupBy(\"timestamp\").agg(collect_list($\"instrument\"))\n", "     .toDF(\"ts\", \"instruments\")\n", "     .count" ],
    "outputs" : [ ]
  }, {
    "metadata" : {
      "trusted" : true,
      "input_collapsed" : false,
      "collapsed" : true,
      "id" : "1FFCF0610F704DED83795DE4D281384C"
    },
    "cell_type" : "code",
    "source" : [ "rawDF.distinct\n", "     .groupBy(\"timestamp\").agg(collect_list($\"instrument\"))\n", "     .toDF(\"ts\", \"instruments\")\n", "     .filter(\"size(instruments) != 5\")\n", "     .count" ],
    "outputs" : [ ]
  }, {
    "metadata" : {
      "trusted" : true,
      "input_collapsed" : false,
      "collapsed" : false,
      "id" : "8389304E217C42838B6D01B0B39D5D97"
    },
    "cell_type" : "code",
    "source" : [ "val timestamps = rawDF.distinct\n", "     .groupBy(\"timestamp\").agg(collect_list($\"instrument\"))\n", "     .toDF(\"ts\", \"instruments\")\n", "     .filter(\"size(instruments) == 5\")\n", "     .select(\"ts\")" ],
    "outputs" : [ ]
  }, {
    "metadata" : {
      "id" : "02226D05C9C54F6C883D8B20274528F0"
    },
    "cell_type" : "markdown",
    "source" : "There are 10067 `timestamps` to keep to get only complete data"
  }, {
    "metadata" : {
      "trusted" : true,
      "input_collapsed" : false,
      "collapsed" : true,
      "id" : "E6246E0024C143A69E0A4755AF26C276"
    },
    "cell_type" : "code",
    "source" : [ "timestamps.count" ],
    "outputs" : [ ]
  }, {
    "metadata" : {
      "trusted" : true,
      "input_collapsed" : false,
      "collapsed" : true,
      "id" : "60405965EDFF4818869EB834194502FE"
    },
    "cell_type" : "markdown",
    "source" : "### Inner join `timestamps` to filter data"
  }, {
    "metadata" : {
      "trusted" : true,
      "input_collapsed" : false,
      "collapsed" : false,
      "id" : "2A79F8EB44FD42B1BDF52ABF171BFFE8"
    },
    "cell_type" : "code",
    "source" : [ "val filtered = rawDF.distinct\n", "                    .join(timestamps, $\"timestamp\" === $\"ts\")\n", "                    .select(\"timestamp\", \"instrument\", \"close\")\n", "//.count" ],
    "outputs" : [ ]
  }, {
    "metadata" : {
      "trusted" : true,
      "input_collapsed" : false,
      "collapsed" : false,
      "id" : "6AE9ACB57D8E4AB8B9E58795F6156954"
    },
    "cell_type" : "code",
    "source" : [ "50385/5" ],
    "outputs" : [ ]
  }, {
    "metadata" : {
      "trusted" : true,
      "input_collapsed" : false,
      "collapsed" : false,
      "id" : "3AB7F9618FAE495DB6FCC4F25495AD17"
    },
    "cell_type" : "code",
    "source" : [ "filtered.distinct.count\n", "     //.groupBy(\"timestamp\").agg(collect_list($\"instrument\"))\n", "     //.toDF(\"ts\", \"instruments\")\n", "     //.count" ],
    "outputs" : [ ]
  }, {
    "metadata" : {
      "trusted" : true,
      "input_collapsed" : false,
      "collapsed" : false,
      "id" : "371AEF3543BB45AEBF2AC8B950FC8FB9"
    },
    "cell_type" : "code",
    "source" : [ "50335/5" ],
    "outputs" : [ ]
  }, {
    "metadata" : {
      "id" : "9894A42BE090490D9BBC5EAAFE2AE42E"
    },
    "cell_type" : "markdown",
    "source" : "### Pivot the table to get instruments as colums\n\n* Aggregate by timestamp to define the rows keys\n* Pivot around instruments to define columns\n* Keep the min (or max or avg -- only one element is used anyway thanks to previous filtering)\n* Order by timestamp"
  }, {
    "metadata" : {
      "trusted" : true,
      "input_collapsed" : false,
      "collapsed" : false,
      "id" : "B362EEEEB16047EEB6FF0FB549EABA6D"
    },
    "cell_type" : "code",
    "source" : [ "val data = filtered.groupBy($\"timestamp\")   \n", "                   .pivot($\"instrument\")\n", "                   .agg(min(\"close\"))\n", "                   .orderBy($\"timestamp\".desc)" ],
    "outputs" : [ ]
  }, {
    "metadata" : {
      "id" : "71CD772B39B9447C888BFB176D045D4B"
    },
    "cell_type" : "markdown",
    "source" : "### Save as parquet file\n\nSee partitions on disk"
  }, {
    "metadata" : {
      "trusted" : true,
      "input_collapsed" : false,
      "collapsed" : false,
      "id" : "E20A2EF88B454D819CFF75CEC1F3517F"
    },
    "cell_type" : "code",
    "source" : [ "// TODO ... toon many partitions ..." ],
    "outputs" : [ ]
  }, {
    "metadata" : {
      "trusted" : true,
      "input_collapsed" : false,
      "collapsed" : false,
      "id" : "F36F6812E3C24EBBBEEE8F3C56BF89DF"
    },
    "cell_type" : "code",
    "source" : [ "val dataLocation = System.getenv(\"HOME\") + \"/data/cleaned-history.parquet\"\n", "data.write.save(dataLocation)" ],
    "outputs" : [ ]
  }, {
    "metadata" : {
      "trusted" : true,
      "input_collapsed" : false,
      "collapsed" : false,
      "id" : "9B3ABCDB674D4CE2AD0DD471B521CCCF"
    },
    "cell_type" : "code",
    "source" : [ ":sh ls -l $dataLocation" ],
    "outputs" : [ ]
  }, {
    "metadata" : {
      "trusted" : true,
      "input_collapsed" : false,
      "collapsed" : true,
      "id" : "7BB014437063474C857250127685FA95"
    },
    "cell_type" : "code",
    "source" : [ "" ],
    "outputs" : [ ]
  } ],
  "nbformat" : 4
}