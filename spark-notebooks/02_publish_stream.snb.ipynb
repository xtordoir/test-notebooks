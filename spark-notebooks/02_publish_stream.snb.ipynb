{
  "metadata" : {
    "id" : "3de24029-d7a5-40ca-9ab8-4ba41bcc194c",
    "name" : "02_publish_stream",
    "user_save_timestamp" : "1970-01-01T00:00:00.000Z",
    "auto_save_timestamp" : "1970-01-01T00:00:00.000Z",
    "language_info" : {
      "name" : "scala",
      "file_extension" : "scala",
      "codemirror_mode" : "text/x-scala"
    },
    "trusted" : true,
    "sparkNotebook" : null,
    "customLocalRepo" : "${HOME}/.ivy2",
    "customRepos" : null,
    "customDeps" : [ "io.circe %% circe-core % 0.10.1", "io.circe %% circe-generic % 0.10.1", "io.circe %% circe-parser % 0.10.1", "io.github.azhur %% kafka-serde-circe % 0.4.0", "com.typesafe.akka %% akka-stream-kafka % 1.0.3" ],
    "customImports" : null,
    "customArgs" : null,
    "customSparkConf" : null,
    "customVars" : null
  },
  "cells" : [ {
    "metadata" : {
      "trusted" : true,
      "input_collapsed" : false,
      "collapsed" : false,
      "id" : "73719ADA23A54555B39845A5DC40606B"
    },
    "cell_type" : "code",
    "source" : [ "val dataFile = System.getenv(\"HOME\") + \"/data/stream/crypto-stream.json\"" ],
    "outputs" : [ ]
  }, {
    "metadata" : {
      "trusted" : true,
      "input_collapsed" : false,
      "collapsed" : false,
      "id" : "FAF821B36F954678A9390BDDA7E67A52"
    },
    "cell_type" : "code",
    "source" : [ "import akka.actor.ActorSystem\n", "import akka.actor.{Actor, Props}\n", "import akka.pattern.ask\n", "import akka.util.ByteString\n", "import akka.util.Timeout\n", "import akka.stream.ActorMaterializer\n", "import akka.stream.scaladsl._\n", "import java.nio.file.Paths\n", "import java.util.Properties\n", "\n", "import org.apache.kafka.clients.producer.{KafkaProducer, ProducerRecord}\n", "import org.apache.kafka.common.serialization.StringSerializer\n", "import akka.kafka.ProducerSettings\n", "\n", "import scala.concurrent.duration._\n", "\n", "implicit val system = ActorSystem(\"system\")\n", "implicit val materializer = ActorMaterializer()" ],
    "outputs" : [ ]
  }, {
    "metadata" : {
      "trusted" : true,
      "input_collapsed" : false,
      "collapsed" : false,
      "id" : "150741306E284F32861A142D917BFC3D"
    },
    "cell_type" : "code",
    "source" : [ "import _root_.io.circe.parser.decode\n", "import _root_.io.circe.{ Decoder, Encoder }\n", "\n", "case class Tick(exchange: String, pair: String, timestamp: Long, price: Double, volume: Double)\n", "\n", "object Tick {\n", "  import _root_.io.circe.generic.semiauto._\n", "\n", "  implicit lazy val encoder: Encoder[Tick] = deriveEncoder[Tick]\n", "  implicit lazy val decoder: Decoder[Tick] = deriveDecoder[Tick]\n", "}" ],
    "outputs" : [ ]
  }, {
    "metadata" : {
      "trusted" : true,
      "input_collapsed" : false,
      "collapsed" : false,
      "id" : "895510E473CF471D8857C7C6C90B48E2"
    },
    "cell_type" : "code",
    "source" : [ "import scala.concurrent.duration._\n", "import scala.language.postfixOps\n", "\n", "class MsgDelayer extends Actor {\n", "  import context._\n", "  var time = -1L\n", "  def receive = {\n", "    case tick: Tick if (time < 0 ) => {\n", "      time = tick.timestamp\n", "      context.system.scheduler.scheduleOnce(0 milliseconds, sender, tick)\n", "    }\n", "    case tick: Tick => {\n", "      val delay = tick.timestamp - time\n", "      time = tick.timestamp\n", "      context.system.scheduler.scheduleOnce(delay second, sender, tick)\n", "    } \n", "  }\n", "}\n", "object MsgDelayer{\n", "  def props() = Props(new MsgDelayer())\n", "}\n" ],
    "outputs" : [ ]
  }, {
    "metadata" : {
      "trusted" : true,
      "input_collapsed" : false,
      "collapsed" : false,
      "id" : "6E6C46D8DDE141B18FCAF19DD27870FB"
    },
    "cell_type" : "code",
    "source" : [ "val delayer = system.actorOf(MsgDelayer.props())\n", "implicit val askTimeout = Timeout(500.seconds)" ],
    "outputs" : [ ]
  }, {
    "metadata" : {
      "trusted" : true,
      "input_collapsed" : false,
      "collapsed" : false,
      "id" : "430E95BF29C84507BABAE8BC5DABC754"
    },
    "cell_type" : "code",
    "source" : [ "val props = new Properties()\n", "  props.put(\"bootstrap.servers\", \"192.168.58.111:9092\")\n", "  props.put(\"client.id\", \"ScalaProducerExample\")\n", "  props.put(\"key.serializer\", \"org.apache.kafka.common.serialization.StringSerializer\")\n", "  props.put(\"value.serializer\", \"org.apache.kafka.common.serialization.StringSerializer\")\n", "\n", "val producer = new KafkaProducer[String, String](props)" ],
    "outputs" : [ ]
  }, {
    "metadata" : {
      "trusted" : true,
      "input_collapsed" : false,
      "collapsed" : false,
      "id" : "86AAB77A3C43441A8743E315328D1734"
    },
    "cell_type" : "code",
    "source" : [ "FileIO.fromPath(Paths.get(dataFile))\n", "      .via(Framing.delimiter(ByteString(\"\\n\"), 256, true).map(_.utf8String))\n", "      .map(s => (decode[Tick](s)).right.toOption.get)\n", "      .filter(_.exchange == \"Coinbase\")\n", "      .mapAsync(1)(tick => (delayer ? tick).mapTo[Tick])\n", "      .map(tick => Tick.encoder(tick).noSpaces)\n", "      .map(value => new ProducerRecord[String, String](\"test\", value))\n", "      .map(msg => producer.send(msg))\n", "      .runWith(Sink.ignore)" ],
    "outputs" : [ ]
  }, {
    "metadata" : {
      "trusted" : true,
      "input_collapsed" : false,
      "collapsed" : true,
      "id" : "06AFE1A34D654D0993B4E4AEB5FA1581"
    },
    "cell_type" : "code",
    "source" : [ "" ],
    "outputs" : [ ]
  } ],
  "nbformat" : 4
}